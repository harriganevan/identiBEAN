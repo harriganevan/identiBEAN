{
  "nbformat": 4,
  "nbformat_minor": 0,
  "metadata": {
    "colab": {
      "name": "identiBEAN.ipynb",
      "provenance": [],
      "collapsed_sections": []
    },
    "kernelspec": {
      "name": "python3",
      "display_name": "Python 3"
    },
    "language_info": {
      "name": "python"
    }
  },
  "cells": [
    {
      "cell_type": "markdown",
      "source": [
        "identiBEAN is a dry bean indentifying tool"
      ],
      "metadata": {
        "id": "dQcNwsVd_UZ5"
      }
    },
    {
      "cell_type": "code",
      "source": [
        "import math\n",
        "import numpy as np\n",
        "import pandas as pd\n",
        "from scipy.io import arff\n",
        "from sklearn.utils import shuffle\n",
        "from tensorflow.keras.utils import to_categorical\n",
        "\n",
        "#image segmentation\n",
        "import cv2\n",
        "from matplotlib import pyplot as plt\n",
        "from skimage.filters import threshold_otsu\n",
        "\n",
        "#image processing\n",
        "from skimage.measure import regionprops\n",
        "\n",
        "#model\n",
        "import tensorflow as tf\n",
        "from tensorflow import keras\n",
        "from tensorflow.keras.optimizers import Adam\n",
        "from tensorflow.keras.models import Sequential\n",
        "from tensorflow.keras.layers import Activation, Dense\n",
        "from tensorflow.keras.metrics import categorical_crossentropy"
      ],
      "metadata": {
        "id": "XVa0T31ZHxXn"
      },
      "execution_count": 1,
      "outputs": []
    },
    {
      "cell_type": "code",
      "source": [
        "train_labels = []\n",
        "train_samples = []\n",
        "\n",
        "#importing data from arff file to numpy array\n",
        "data = arff.loadarff(r\"/home/Dry_Bean_Dataset.arff\")\n",
        "df = pd.DataFrame(data[0])\n",
        "df = df.to_numpy()\n",
        "\n",
        "#putting data into lists for samples and labels\n",
        "for i in range(np.size(df,0)):\n",
        "  if(df[i][16] == b'SEKER'):\n",
        "    train_labels.append(0)\n",
        "  elif(df[i][16] == b'BARBUNYA'):\n",
        "    train_labels.append(1)\n",
        "  elif(df[i][16] == b'BOMBAY'):\n",
        "    train_labels.append(2)\n",
        "  elif(df[i][16] == b'CALI'):\n",
        "    train_labels.append(3)\n",
        "  elif(df[i][16] == b'HOROZ'):\n",
        "    train_labels.append(4)\n",
        "  elif(df[i][16] == b'SIRA'):\n",
        "    train_labels.append(5)\n",
        "  elif(df[i][16] == b'DERMASON'):\n",
        "    train_labels.append(6)\n",
        "\n",
        "for i in range(np.size(df,0)):\n",
        "  train_samples.append(df[i][[4,5,8,9,10,11]])\n",
        "\n",
        "#list to numpy array\n",
        "train_samples = np.asarray(train_samples).astype('float32')\n",
        "train_labels = np.asarray(train_labels)\n",
        "\n",
        "#converting labels to onehot values\n",
        "train_labels = to_categorical(train_labels)\n",
        "\n",
        "#shuffle labels and samples respectively\n",
        "train_labels, train_samples = shuffle(train_labels, train_samples)"
      ],
      "metadata": {
        "id": "BXPer1HBH7L_"
      },
      "execution_count": 2,
      "outputs": []
    },
    {
      "cell_type": "code",
      "source": [
        "#creating model\n",
        "model = Sequential([\n",
        "    Dense(units = 16, input_shape = (6,), activation = 'selu'),\n",
        "    Dense(units = 16, activation = 'selu'),\n",
        "    Dense(units = 7, activation = 'softmax')\n",
        "])\n",
        "\n",
        "model.summary()\n",
        "\n",
        "#compile and fit the model with the training data\n",
        "model.compile(optimizer=Adam(learning_rate=0.0001), loss='categorical_crossentropy', metrics=['accuracy'])\n",
        "model.fit(x=train_samples, y=train_labels, validation_split=0.1, epochs=500, verbose=2)"
      ],
      "metadata": {
        "id": "1RgaJ7R0IjBh"
      },
      "execution_count": null,
      "outputs": []
    },
    {
      "cell_type": "code",
      "execution_count": 10,
      "metadata": {
        "id": "s3ssEjC6zj4-",
        "colab": {
          "base_uri": "https://localhost:8080/",
          "height": 533
        },
        "outputId": "013078f8-51c2-44c2-f35c-49284cd74ee7"
      },
      "outputs": [
        {
          "output_type": "execute_result",
          "data": {
            "text/plain": [
              "<function matplotlib.pyplot.show>"
            ]
          },
          "metadata": {},
          "execution_count": 10
        },
        {
          "output_type": "display_data",
          "data": {
            "image/png": "[encoded data removed]",
            "text/plain": [
              "<Figure size 432x288 with 1 Axes>"
            ]
          },
          "metadata": {
            "needs_background": "light"
          }
        },
        {
          "output_type": "display_data",
          "data": {
            "image/png": "[encoded data removed]",
            "text/plain": [
              "<Figure size 432x288 with 1 Axes>"
            ]
          },
          "metadata": {
            "needs_background": "light"
          }
        }
      ],
      "source": [
        "#IMAGE SEGMENTATION\n",
        "img = cv2.imread('/home/beanSeker.jpg', 0)\n",
        "\n",
        "#starting image\n",
        "plt.figure(\"og image\")\n",
        "plt.imshow(img, cmap=\"gray\")\n",
        "\n",
        "#bluring image\n",
        "blur = cv2.GaussianBlur(img,(5,5),0)\n",
        "#thresholding\n",
        "ret, thresh = cv2.threshold(blur, 0, 255, cv2.THRESH_BINARY+cv2.THRESH_OTSU)\n",
        "image = thresh\n",
        "\n",
        "#flooding around bean\n",
        "imageCopy = image.copy()\n",
        "h,w = image.shape[:2]\n",
        "mask = np.zeros((h + 2, w + 2), np.uint8)\n",
        "cv2.floodFill(image, mask, (0,0), 255)\n",
        "\n",
        "#inverting flooded image\n",
        "iminv = cv2.bitwise_not(image)\n",
        "\n",
        "#combining original image with inverted flooded image\n",
        "image = imageCopy | iminv\n",
        "\n",
        "#final image\n",
        "plt.figure(\"image\")\n",
        "plt.imshow(image, cmap=\"gray\")\n",
        "\n",
        "plt.show"
      ]
    },
    {
      "cell_type": "code",
      "source": [
        "#IMAGE PROCESSING\n",
        "regions = regionprops(image)\n",
        "\n",
        "plt.imshow(image, cmap=\"gray\")\n",
        "\n",
        "#displaying axis on bean\n",
        "y0, x0 = regions[0].centroid\n",
        "orientation = regions[0].orientation\n",
        "x1 = x0 + math.cos(orientation) * 0.5 * regions[0].minor_axis_length\n",
        "y1 = y0 - math.sin(orientation) * 0.5 * regions[0].minor_axis_length\n",
        "x2 = x0 - math.sin(orientation) * 0.5 * regions[0].major_axis_length\n",
        "y2 = y0 - math.cos(orientation) * 0.5 * regions[0].major_axis_length\n",
        "\n",
        "plt.plot((x0, x1), (y0, y1), '-r', linewidth=2.5)\n",
        "plt.plot((x0, x2), (y0, y2), '-r', linewidth=2.5)\n",
        "plt.plot(x0, y0, '.g', markersize=15)\n",
        "\n",
        "plt.show()\n",
        "\n",
        "#calculating aspect ratio\n",
        "aspect_ratio = regions[0].major_axis_length/regions[0].minor_axis_length\n",
        "\n",
        "eccentricity = regions[0].eccentricity\n",
        "\n",
        "solidity = regions[0].solidity\n",
        "\n",
        "extent = regions[0].extent\n",
        "\n",
        "#calculating roundness\n",
        "area = regions[0].area\n",
        "perimeter = regions[0].perimeter\n",
        "roundness = (4 * math.pi * area) / (perimeter*perimeter) \n",
        "\n",
        "#calculating compactness\n",
        "Ed = regions[0].equivalent_diameter\n",
        "L = regions[0].major_axis_length\n",
        "compactness = Ed/L\n",
        "\n",
        "print(\"aspect ratio:\", aspect_ratio)\n",
        "print(\"eccentricity:\", eccentricity)\n",
        "print(\"extent:\", extent)\n",
        "print(\"solidity:\", solidity)\n",
        "print(\"roundness:\", roundness)\n",
        "print(\"compactness:\", compactness)\n",
        "\n",
        "#putting data into a numpy array to be used in prediction\n",
        "test_data = np.array([[aspect_ratio, eccentricity, extent, solidity, roundness, compactness]])"
      ],
      "metadata": {
        "colab": {
          "base_uri": "https://localhost:8080/",
          "height": 370
        },
        "id": "umTfS8KzyMQa",
        "outputId": "f31784a7-3749-4c93-b5ac-1600deedb329"
      },
      "execution_count": 11,
      "outputs": [
        {
          "output_type": "display_data",
          "data": {
            "image/png": "[encoded data removed]",
            "text/plain": [
              "<Figure size 432x288 with 1 Axes>"
            ]
          },
          "metadata": {
            "needs_background": "light"
          }
        },
        {
          "output_type": "stream",
          "name": "stdout",
          "text": [
            "aspect ratio: 1.127165705730087\n",
            "eccentricity: 0.4614215751910561\n",
            "extent: 0.8012422360248447\n",
            "solidity: 0.9699248120300752\n",
            "roundness: 0.9777123302205291\n",
            "compactness: 0.94172471986821\n"
          ]
        }
      ]
    },
    {
      "cell_type": "code",
      "source": [
        "#PREDICTION\n",
        "prediction = model.predict(test_data)\n",
        "bean = np.array(np.argmax(prediction, axis = 1))\n",
        "\n",
        "classification = ['Seker', 'Barbunya', 'Bombay', 'Cali', 'Horoz', 'Sira', 'Dermason']\n",
        "print(\"Model predicted bean as\", classification[bean[0]], \"with\", ' '.join(map(str, 100*prediction[0, np.argmax(prediction, axis = 1)])), \"% confidence\")"
      ],
      "metadata": {
        "id": "KyZn8W43fW_2",
        "colab": {
          "base_uri": "https://localhost:8080/"
        },
        "outputId": "a4370142-6afe-4cca-db02-7365708b501d"
      },
      "execution_count": 12,
      "outputs": [
        {
          "output_type": "stream",
          "name": "stdout",
          "text": [
            "Model predicted bean as Seker with 99.762375 % confidence\n"
          ]
        }
      ]
    }
  ]
}
